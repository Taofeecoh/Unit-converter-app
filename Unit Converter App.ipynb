{
 "cells": [
  {
   "cell_type": "markdown",
   "id": "c35f772f",
   "metadata": {},
   "source": [
    "## Implement a Unit converter Application with the following functions:\n",
    "#### `showMenu()`\n",
    "#### `TempratureConverter()`\n",
    "#### `MassConverter()`\n"
   ]
  },
  {
   "cell_type": "code",
   "execution_count": 13,
   "id": "bac015a6",
   "metadata": {},
   "outputs": [],
   "source": [
    "import sys\n",
    "def showMenu():\n",
    "    \"\"\"\n",
    "    Forwards raw inputs to frontend\\n\n",
    "    Takes raw input according to choice to perform operation(s)\n",
    "    \n",
    "    \"\"\"\n",
    "    \n",
    "    \n",
    "    print(f\"Welcome!\\n Enter 1 for Temperature conversion \\n Enter 2 for Mass conversion \\n Enter 3 to exit\")\n",
    "    option = int(input(''))\n",
    "    \n",
    "    #Temperature converter\n",
    "    def TemperatureConverter():\n",
    "        temp = int(input('Enter temperature:\\n'))\n",
    "        unit = input('Enter unit to convert into (F for Fahrenheit, C for Celsius): \\n')\n",
    "\n",
    "        if unit in ('F', 'f'):\n",
    "            to_fahr = round(((temp*9)/5)+32, 2) # Calculates and rounds to 2 decimal places\n",
    "            print(f\"{temp}°C = {to_fahr}°F\")\n",
    "        elif unit in ('C', 'c'):\n",
    "            to_cel = round((temp-32)*(5/9), 2)\n",
    "            print(f\"{temp}°F = {to_cel}°C\")\n",
    "        else:\n",
    "            print('Invalid unit!')\n",
    "            \n",
    "    # Mass converter  \n",
    "    def MassConverter():\n",
    "        value = int(input('Enter weight/mass: \\n'))\n",
    "        unit = input('Enter unit to convert into (1 for kilogram, 2 for pounds): \\n')\n",
    "\n",
    "        if unit == '1':\n",
    "            to_kg = round(value/2.205, 2)\n",
    "            print(f\"{value} lb(s) = {to_kg} kg\")\n",
    "        elif unit == '2':\n",
    "            to_pounds = round(value*2.205, 2)\n",
    "            print(f\"{value} kg = {to_pounds} lb(s)\")\n",
    "        else:\n",
    "            print('Invalid input!')\n",
    "        \n",
    "    # Define operation\n",
    "    if option == 1:\n",
    "        TemperatureConverter()\n",
    "    elif option == 2:\n",
    "        MassConverter()"
   ]
  },
  {
   "cell_type": "code",
   "execution_count": 14,
   "id": "c751cc96",
   "metadata": {},
   "outputs": [
    {
     "name": "stdout",
     "output_type": "stream",
     "text": [
      "\n",
      "    Forwards raw inputs to frontend\n",
      "\n",
      "    Takes raw input according to choice to perform operation(s)\n",
      "    \n",
      "    \n"
     ]
    }
   ],
   "source": [
    "print(showMenu.__doc__)"
   ]
  },
  {
   "cell_type": "code",
   "execution_count": 11,
   "id": "2ae50939",
   "metadata": {},
   "outputs": [
    {
     "name": "stdout",
     "output_type": "stream",
     "text": [
      "Welcome!\n",
      " Enter 1 for Temperature conversion \n",
      " Enter 2 for Mass conversion \n",
      " Enter 3 to exit\n",
      "3\n"
     ]
    }
   ],
   "source": [
    "showMenu()"
   ]
  },
  {
   "cell_type": "code",
   "execution_count": 3,
   "id": "54432593",
   "metadata": {},
   "outputs": [],
   "source": [
    "def TemperatureConverter(temp, unit=\"\"):\n",
    "    \n",
    "    \"\"\"\n",
    "    Function to convert two temperature units \\n\n",
    "    from 'Fahrenheit or Celsius' to either of the two\\n\n",
    "    Takes two required postional arguments\\n\n",
    "    First is a numeric value\\n\n",
    "    Second takes a string value to convert into\\n\n",
    "    TemperatureConverter(req = numeric, req = 'C' or 'c' or 'F' or 'f')\n",
    "    *req = required\n",
    "    \"\"\"\n",
    "    if unit in ('F', 'f'):\n",
    "        to_fahr = round(((temp*9)/5)+32, 2) # Calculates and rounds to 2 decimal places\n",
    "        print(f\"{temp}°C = {to_fahr}°F\")\n",
    "    elif unit in ('C', 'c'):\n",
    "        to_cel = round((temp-32)*(5/9), 2)\n",
    "        print(f\"{temp}°F = {to_cel}°C\")\n",
    "    else:\n",
    "        print('Invalid unit!')"
   ]
  },
  {
   "cell_type": "code",
   "execution_count": 4,
   "id": "8c1244c2",
   "metadata": {},
   "outputs": [
    {
     "name": "stdout",
     "output_type": "stream",
     "text": [
      "\n",
      "    Function to convert two temperature units \n",
      "\n",
      "    from 'Fahrenheit or Celsius' to either of the two\n",
      "\n",
      "    Takes two required postional arguments\n",
      "\n",
      "    First is a numeric value\n",
      "\n",
      "    Second takes a string value to convert into\n",
      "\n",
      "    TemperatureConverter(req = numeric, req = 'C' or 'c' or 'F' or 'f')\n",
      "    *req = required\n",
      "    \n"
     ]
    }
   ],
   "source": [
    "print(TemperatureConverter.__doc__)"
   ]
  },
  {
   "cell_type": "code",
   "execution_count": 5,
   "id": "cc45054d",
   "metadata": {},
   "outputs": [],
   "source": [
    "def MassConverter(value, unit):\n",
    "    \n",
    "    \"\"\"\n",
    "    Function to convert mass or weight values \n",
    "    \n",
    "    from 'Kilogram or Pounds' to either of the two \\n\n",
    "    Takes two required postional arguments\\n\n",
    "    First is a numeric value\\n\n",
    "    Second takes a string value to convert into\\n\n",
    "    MassConverter(req = numeric, req = 'kg' or 'pounds')\n",
    "    *req = required\n",
    "    \"\"\"\n",
    "\n",
    "    if unit in ['Kg', 'KG', 'kg', 'kG']:\n",
    "        to_kg = round(value/2.205, 2)\n",
    "        print(f\"{value} lb(s) = {to_kg} kg\")\n",
    "    elif unit in ['pounds', 'Pounds', 'pound', 'lbs', 'lb']:\n",
    "        to_pounds = round(value*2.205, 2)\n",
    "        print(f\"{value} kg = {to_pounds} lb(s)\")\n",
    "    else:\n",
    "        print('Invalid input!')"
   ]
  },
  {
   "cell_type": "code",
   "execution_count": 6,
   "id": "152af2cb",
   "metadata": {},
   "outputs": [
    {
     "name": "stdout",
     "output_type": "stream",
     "text": [
      "\n",
      "    Function to convert mass or weight values \n",
      "    \n",
      "    from 'Kilogram or Pounds' to either of the two \n",
      "\n",
      "    Takes two required postional arguments\n",
      "\n",
      "    First is a numeric value\n",
      "\n",
      "    Second takes a string value to convert into\n",
      "\n",
      "    MassConverter(req = numeric, req = 'kg' or 'pounds')\n",
      "    *req = required\n",
      "    \n"
     ]
    }
   ],
   "source": [
    "print(MassConverter.__doc__)"
   ]
  }
 ],
 "metadata": {
  "kernelspec": {
   "display_name": "Python 3 (ipykernel)",
   "language": "python",
   "name": "python3"
  },
  "language_info": {
   "codemirror_mode": {
    "name": "ipython",
    "version": 3
   },
   "file_extension": ".py",
   "mimetype": "text/x-python",
   "name": "python",
   "nbconvert_exporter": "python",
   "pygments_lexer": "ipython3",
   "version": "3.11.5"
  }
 },
 "nbformat": 4,
 "nbformat_minor": 5
}
